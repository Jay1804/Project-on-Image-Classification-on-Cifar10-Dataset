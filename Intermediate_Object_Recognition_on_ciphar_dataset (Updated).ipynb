{
  "nbformat": 4,
  "nbformat_minor": 0,
  "metadata": {
    "colab": {
      "name": "Intermediate: Object Recognition on  ciphar dataset.ipynb",
      "provenance": [],
      "collapsed_sections": [
        "fqu95kl0ZwYK",
        "4LbyofFnaRNC",
        "yiGmRTlea06e",
        "Myj2KSbJa-_z",
        "gyV8nLrDbfEt",
        "QHbgHgglbmJQ"
      ]
    },
    "kernelspec": {
      "name": "python3",
      "display_name": "Python 3"
    },
    "accelerator": "GPU"
  },
  "cells": [
    {
      "cell_type": "code",
      "metadata": {
        "id": "OZjoWsvunriB",
        "colab_type": "code",
        "colab": {}
      },
      "source": [
        "# Inserting Necessary Librariies\n",
        "\n",
        "import tensorflow as tf\n",
        "import pandas as pd\n",
        "from keras.callbacks import EarlyStopping\n",
        "import matplotlib.pyplot as plt"
      ],
      "execution_count": null,
      "outputs": []
    },
    {
      "cell_type": "code",
      "metadata": {
        "id": "oJomfaxfX0a_",
        "colab_type": "code",
        "colab": {
          "base_uri": "https://localhost:8080/",
          "height": 53
        },
        "outputId": "e4d1c631-a903-4470-a891-cf5e8eb94878"
      },
      "source": [
        "# Loading the Ciphar Dataset\n",
        "\n",
        "from tensorflow.keras.datasets.cifar10 import load_data    # To load the MNIST digit dataset\n",
        "\n",
        "(X_train, y_train) , (X_test, y_test) = load_data()      # Loading data"
      ],
      "execution_count": null,
      "outputs": [
        {
          "output_type": "stream",
          "text": [
            "Downloading data from https://www.cs.toronto.edu/~kriz/cifar-10-python.tar.gz\n",
            "170500096/170498071 [==============================] - 2s 0us/step\n"
          ],
          "name": "stdout"
        }
      ]
    },
    {
      "cell_type": "code",
      "metadata": {
        "id": "eoVzvweSn9tG",
        "colab_type": "code",
        "colab": {
          "base_uri": "https://localhost:8080/",
          "height": 53
        },
        "outputId": "7290fd2c-1415-4a8a-ccd4-caad59f12476"
      },
      "source": [
        "print(\"There are \", len(X_train), \"images in the training dataset\")     # checking total number of records / data points available in the X_train dataset\n",
        "print(\"There are \", len(X_test), \"images in the test dataset\")     # checking total number of records / data points available in the X_test dataset"
      ],
      "execution_count": null,
      "outputs": [
        {
          "output_type": "stream",
          "text": [
            "There are  50000 images in the training dataset\n",
            "There are  10000 images in the test dataset\n"
          ],
          "name": "stdout"
        }
      ]
    },
    {
      "cell_type": "code",
      "metadata": {
        "id": "M-Vo_A0poGIC",
        "colab_type": "code",
        "colab": {
          "base_uri": "https://localhost:8080/",
          "height": 35
        },
        "outputId": "9f8937af-1478-4ac6-ac55-3698fc426744"
      },
      "source": [
        "# Checking the shape of one image\n",
        "X_train[0].shape"
      ],
      "execution_count": null,
      "outputs": [
        {
          "output_type": "execute_result",
          "data": {
            "text/plain": [
              "(32, 32, 3)"
            ]
          },
          "metadata": {
            "tags": []
          },
          "execution_count": 4
        }
      ]
    },
    {
      "cell_type": "code",
      "metadata": {
        "id": "DkPjwHzLoLWj",
        "colab_type": "code",
        "colab": {
          "base_uri": "https://localhost:8080/",
          "height": 899
        },
        "outputId": "8f042cd7-a5d9-4dc6-e700-df98a031cc78"
      },
      "source": [
        "# Take a look how one image looks like\n",
        "X_train[0]"
      ],
      "execution_count": null,
      "outputs": [
        {
          "output_type": "execute_result",
          "data": {
            "text/plain": [
              "array([[[ 59,  62,  63],\n",
              "        [ 43,  46,  45],\n",
              "        [ 50,  48,  43],\n",
              "        ...,\n",
              "        [158, 132, 108],\n",
              "        [152, 125, 102],\n",
              "        [148, 124, 103]],\n",
              "\n",
              "       [[ 16,  20,  20],\n",
              "        [  0,   0,   0],\n",
              "        [ 18,   8,   0],\n",
              "        ...,\n",
              "        [123,  88,  55],\n",
              "        [119,  83,  50],\n",
              "        [122,  87,  57]],\n",
              "\n",
              "       [[ 25,  24,  21],\n",
              "        [ 16,   7,   0],\n",
              "        [ 49,  27,   8],\n",
              "        ...,\n",
              "        [118,  84,  50],\n",
              "        [120,  84,  50],\n",
              "        [109,  73,  42]],\n",
              "\n",
              "       ...,\n",
              "\n",
              "       [[208, 170,  96],\n",
              "        [201, 153,  34],\n",
              "        [198, 161,  26],\n",
              "        ...,\n",
              "        [160, 133,  70],\n",
              "        [ 56,  31,   7],\n",
              "        [ 53,  34,  20]],\n",
              "\n",
              "       [[180, 139,  96],\n",
              "        [173, 123,  42],\n",
              "        [186, 144,  30],\n",
              "        ...,\n",
              "        [184, 148,  94],\n",
              "        [ 97,  62,  34],\n",
              "        [ 83,  53,  34]],\n",
              "\n",
              "       [[177, 144, 116],\n",
              "        [168, 129,  94],\n",
              "        [179, 142,  87],\n",
              "        ...,\n",
              "        [216, 184, 140],\n",
              "        [151, 118,  84],\n",
              "        [123,  92,  72]]], dtype=uint8)"
            ]
          },
          "metadata": {
            "tags": []
          },
          "execution_count": 5
        }
      ]
    },
    {
      "cell_type": "code",
      "metadata": {
        "id": "9PqSpAH5oQD4",
        "colab_type": "code",
        "colab": {
          "base_uri": "https://localhost:8080/",
          "height": 293
        },
        "outputId": "ae6a9f7d-661e-4b6e-8463-56620cfc6f0a"
      },
      "source": [
        "import matplotlib.pyplot as plt\n",
        "\n",
        "plt.matshow(X_train[0])\n"
      ],
      "execution_count": null,
      "outputs": [
        {
          "output_type": "execute_result",
          "data": {
            "text/plain": [
              "<matplotlib.image.AxesImage at 0x7fcb3a1c3f60>"
            ]
          },
          "metadata": {
            "tags": []
          },
          "execution_count": 6
        },
        {
          "output_type": "display_data",
          "data": {
            "image/png": "[encoded data removed]",
            "text/plain": [
              "<Figure size 288x288 with 1 Axes>"
            ]
          },
          "metadata": {
            "tags": [],
            "needs_background": "light"
          }
        }
      ]
    },
    {
      "cell_type": "code",
      "metadata": {
        "id": "jyHWg_6FoT-y",
        "colab_type": "code",
        "colab": {
          "base_uri": "https://localhost:8080/",
          "height": 35
        },
        "outputId": "f0d2cc5e-ad02-44fc-a0ec-ffea48f27187"
      },
      "source": [
        "y_train[0]"
      ],
      "execution_count": null,
      "outputs": [
        {
          "output_type": "execute_result",
          "data": {
            "text/plain": [
              "array([6], dtype=uint8)"
            ]
          },
          "metadata": {
            "tags": []
          },
          "execution_count": 7
        }
      ]
    },
    {
      "cell_type": "code",
      "metadata": {
        "id": "f0HadG3Uoe71",
        "colab_type": "code",
        "colab": {
          "base_uri": "https://localhost:8080/",
          "height": 314
        },
        "outputId": "b960b87e-592b-4d1c-ce39-fe22d1d0a4ee"
      },
      "source": [
        "# code to view the images\n",
        "num_rows, num_cols = 2, 5\n",
        "f, ax = plt.subplots(num_rows, num_cols, figsize=(12,5),\n",
        "                     gridspec_kw={'wspace':0.03, 'hspace':0.01}, \n",
        "                     squeeze=True)\n",
        "\n",
        "for r in range(num_rows):\n",
        "    for c in range(num_cols):\n",
        "      \n",
        "        image_index = r * 5 + c\n",
        "        ax[r,c].axis(\"off\")\n",
        "        ax[r,c].imshow( X_train[image_index], cmap='gray')\n",
        "        ax[r,c].set_title('No. %d' % y_train[image_index])\n",
        "plt.show()\n",
        "plt.close()"
      ],
      "execution_count": null,
      "outputs": [
        {
          "output_type": "display_data",
          "data": {
            "image/png": "[encoded data removed]",
            "text/plain": [
              "<Figure size 864x360 with 10 Axes>"
            ]
          },
          "metadata": {
            "tags": [],
            "needs_background": "light"
          }
        }
      ]
    },
    {
      "cell_type": "code",
      "metadata": {
        "id": "k-ZdRPr-oloY",
        "colab_type": "code",
        "colab": {
          "base_uri": "https://localhost:8080/",
          "height": 35
        },
        "outputId": "22eccbc5-fdc8-4436-deb0-48f6d2b64a9c"
      },
      "source": [
        "X_train = X_train / 255\n",
        "X_test = X_test / 255\n",
        "\n",
        "\"\"\"\n",
        "Why divided by 255?\n",
        "The pixel value lie in the range 0 - 255 representing the RGB (Red Green Blue) value. \"\"\""
      ],
      "execution_count": null,
      "outputs": [
        {
          "output_type": "execute_result",
          "data": {
            "application/vnd.google.colaboratory.intrinsic+json": {
              "type": "string"
            },
            "text/plain": [
              "'\\nWhy divided by 255?\\nThe pixel value lie in the range 0 - 255 representing the RGB (Red Green Blue) value. '"
            ]
          },
          "metadata": {
            "tags": []
          },
          "execution_count": 9
        }
      ]
    },
    {
      "cell_type": "code",
      "metadata": {
        "id": "LPOnysycorux",
        "colab_type": "code",
        "colab": {
          "base_uri": "https://localhost:8080/",
          "height": 899
        },
        "outputId": "0925b0d1-e170-4de0-c273-056ab3dee2da"
      },
      "source": [
        "X_train[0]"
      ],
      "execution_count": null,
      "outputs": [
        {
          "output_type": "execute_result",
          "data": {
            "text/plain": [
              "array([[[0.23137255, 0.24313725, 0.24705882],\n",
              "        [0.16862745, 0.18039216, 0.17647059],\n",
              "        [0.19607843, 0.18823529, 0.16862745],\n",
              "        ...,\n",
              "        [0.61960784, 0.51764706, 0.42352941],\n",
              "        [0.59607843, 0.49019608, 0.4       ],\n",
              "        [0.58039216, 0.48627451, 0.40392157]],\n",
              "\n",
              "       [[0.0627451 , 0.07843137, 0.07843137],\n",
              "        [0.        , 0.        , 0.        ],\n",
              "        [0.07058824, 0.03137255, 0.        ],\n",
              "        ...,\n",
              "        [0.48235294, 0.34509804, 0.21568627],\n",
              "        [0.46666667, 0.3254902 , 0.19607843],\n",
              "        [0.47843137, 0.34117647, 0.22352941]],\n",
              "\n",
              "       [[0.09803922, 0.09411765, 0.08235294],\n",
              "        [0.0627451 , 0.02745098, 0.        ],\n",
              "        [0.19215686, 0.10588235, 0.03137255],\n",
              "        ...,\n",
              "        [0.4627451 , 0.32941176, 0.19607843],\n",
              "        [0.47058824, 0.32941176, 0.19607843],\n",
              "        [0.42745098, 0.28627451, 0.16470588]],\n",
              "\n",
              "       ...,\n",
              "\n",
              "       [[0.81568627, 0.66666667, 0.37647059],\n",
              "        [0.78823529, 0.6       , 0.13333333],\n",
              "        [0.77647059, 0.63137255, 0.10196078],\n",
              "        ...,\n",
              "        [0.62745098, 0.52156863, 0.2745098 ],\n",
              "        [0.21960784, 0.12156863, 0.02745098],\n",
              "        [0.20784314, 0.13333333, 0.07843137]],\n",
              "\n",
              "       [[0.70588235, 0.54509804, 0.37647059],\n",
              "        [0.67843137, 0.48235294, 0.16470588],\n",
              "        [0.72941176, 0.56470588, 0.11764706],\n",
              "        ...,\n",
              "        [0.72156863, 0.58039216, 0.36862745],\n",
              "        [0.38039216, 0.24313725, 0.13333333],\n",
              "        [0.3254902 , 0.20784314, 0.13333333]],\n",
              "\n",
              "       [[0.69411765, 0.56470588, 0.45490196],\n",
              "        [0.65882353, 0.50588235, 0.36862745],\n",
              "        [0.70196078, 0.55686275, 0.34117647],\n",
              "        ...,\n",
              "        [0.84705882, 0.72156863, 0.54901961],\n",
              "        [0.59215686, 0.4627451 , 0.32941176],\n",
              "        [0.48235294, 0.36078431, 0.28235294]]])"
            ]
          },
          "metadata": {
            "tags": []
          },
          "execution_count": 10
        }
      ]
    },
    {
      "cell_type": "code",
      "metadata": {
        "id": "P1rh7RJ4owiL",
        "colab_type": "code",
        "colab": {
          "base_uri": "https://localhost:8080/",
          "height": 35
        },
        "outputId": "7389741b-d7f1-4d97-facb-0a83ee2a1c71"
      },
      "source": [
        "# Checking the shape of the image\n",
        "X_train.shape"
      ],
      "execution_count": null,
      "outputs": [
        {
          "output_type": "execute_result",
          "data": {
            "text/plain": [
              "(50000, 32, 32, 3)"
            ]
          },
          "metadata": {
            "tags": []
          },
          "execution_count": 11
        }
      ]
    },
    {
      "cell_type": "code",
      "metadata": {
        "id": "ht5oxoRBo0xa",
        "colab_type": "code",
        "colab": {}
      },
      "source": [
        "X_train_flattened = X_train.reshape(len(X_train), 32*32*3)    # converting our 2D array representin an image to one dimensional\n",
        "X_test_flattened = X_test.reshape(len(X_test), 32*32*3)\n"
      ],
      "execution_count": null,
      "outputs": []
    },
    {
      "cell_type": "code",
      "metadata": {
        "id": "OuuRtuojo5Fb",
        "colab_type": "code",
        "colab": {
          "base_uri": "https://localhost:8080/",
          "height": 35
        },
        "outputId": "4a9843f3-6794-46b0-a821-0288888ee459"
      },
      "source": [
        "X_train_flattened.shape"
      ],
      "execution_count": null,
      "outputs": [
        {
          "output_type": "execute_result",
          "data": {
            "text/plain": [
              "(50000, 3072)"
            ]
          },
          "metadata": {
            "tags": []
          },
          "execution_count": 13
        }
      ]
    },
    {
      "cell_type": "code",
      "metadata": {
        "id": "SO2tbRY6q67s",
        "colab_type": "code",
        "colab": {}
      },
      "source": [
        "INPUT_SHAPE = (32,32,3)"
      ],
      "execution_count": null,
      "outputs": []
    },
    {
      "cell_type": "code",
      "metadata": {
        "id": "NJ6hoPpvpG-N",
        "colab_type": "code",
        "colab": {}
      },
      "source": [
        "\n",
        "# Defining the model\n",
        "model = tf.keras.Sequential([\n",
        "    tf.keras.layers.Dense(100, input_shape=(3072,), activation='relu'),\n",
        "    tf.keras.layers.Dense(100, input_shape=(3072,),activation='relu'),\n",
        "    tf.keras.layers.Dense(10, activation='sigmoid')\n",
        "])\n"
      ],
      "execution_count": null,
      "outputs": []
    },
    {
      "cell_type": "code",
      "metadata": {
        "id": "tveLEr7HpNpF",
        "colab_type": "code",
        "colab": {
          "base_uri": "https://localhost:8080/",
          "height": 269
        },
        "outputId": "eafa0ce2-0cee-434c-80a0-76fa4217ab30"
      },
      "source": [
        "# Printing Model Summary\n",
        "\n",
        "model.summary()\n"
      ],
      "execution_count": null,
      "outputs": [
        {
          "output_type": "stream",
          "text": [
            "Model: \"sequential\"\n",
            "_________________________________________________________________\n",
            "Layer (type)                 Output Shape              Param #   \n",
            "=================================================================\n",
            "dense (Dense)                (None, 100)               307300    \n",
            "_________________________________________________________________\n",
            "dense_1 (Dense)              (None, 100)               10100     \n",
            "_________________________________________________________________\n",
            "dense_2 (Dense)              (None, 10)                1010      \n",
            "=================================================================\n",
            "Total params: 318,410\n",
            "Trainable params: 318,410\n",
            "Non-trainable params: 0\n",
            "_________________________________________________________________\n"
          ],
          "name": "stdout"
        }
      ]
    },
    {
      "cell_type": "code",
      "metadata": {
        "id": "xNDAjoxaqXzp",
        "colab_type": "code",
        "colab": {}
      },
      "source": [
        ""
      ],
      "execution_count": null,
      "outputs": []
    },
    {
      "cell_type": "code",
      "metadata": {
        "id": "de3SD1VTpbf8",
        "colab_type": "code",
        "colab": {}
      },
      "source": [
        "# Compiling the model\n",
        "model.compile(optimizer='adam',\n",
        "              loss='sparse_categorical_crossentropy',\n",
        "              metrics=['accuracy'])\n",
        "\n"
      ],
      "execution_count": null,
      "outputs": []
    },
    {
      "cell_type": "code",
      "metadata": {
        "id": "EHz0-44VpfCl",
        "colab_type": "code",
        "colab": {
          "base_uri": "https://localhost:8080/",
          "height": 755
        },
        "outputId": "bdc49e7b-f96a-4a45-ea5c-03d4ab0c69f8"
      },
      "source": [
        "# Fit the model\n",
        "\n",
        "#model.fit(X_train_flattened, y_train, batch_size= 128,epochs=5)\n",
        "model.fit(x= X_train_flattened,y=y_train,validation_split=0.3,epochs=20)"
      ],
      "execution_count": null,
      "outputs": [
        {
          "output_type": "stream",
          "text": [
            "Epoch 1/20\n",
            "1094/1094 [==============================] - 4s 3ms/step - loss: 1.9256 - accuracy: 0.2931 - val_loss: 1.7856 - val_accuracy: 0.3528\n",
            "Epoch 2/20\n",
            "1094/1094 [==============================] - 4s 3ms/step - loss: 1.7488 - accuracy: 0.3687 - val_loss: 1.7387 - val_accuracy: 0.3725\n",
            "Epoch 3/20\n",
            "1094/1094 [==============================] - 3s 3ms/step - loss: 1.6732 - accuracy: 0.3970 - val_loss: 1.6985 - val_accuracy: 0.3910\n",
            "Epoch 4/20\n",
            "1094/1094 [==============================] - 4s 3ms/step - loss: 1.6285 - accuracy: 0.4158 - val_loss: 1.6647 - val_accuracy: 0.4034\n",
            "Epoch 5/20\n",
            "1094/1094 [==============================] - 3s 3ms/step - loss: 1.5826 - accuracy: 0.4315 - val_loss: 1.6097 - val_accuracy: 0.4263\n",
            "Epoch 6/20\n",
            "1094/1094 [==============================] - 4s 3ms/step - loss: 1.5549 - accuracy: 0.4406 - val_loss: 1.5813 - val_accuracy: 0.4382\n",
            "Epoch 7/20\n",
            "1094/1094 [==============================] - 3s 3ms/step - loss: 1.5315 - accuracy: 0.4528 - val_loss: 1.5997 - val_accuracy: 0.4326\n",
            "Epoch 8/20\n",
            "1094/1094 [==============================] - 3s 3ms/step - loss: 1.5100 - accuracy: 0.4587 - val_loss: 1.5499 - val_accuracy: 0.4412\n",
            "Epoch 9/20\n",
            "1094/1094 [==============================] - 3s 3ms/step - loss: 1.4974 - accuracy: 0.4628 - val_loss: 1.5515 - val_accuracy: 0.4436\n",
            "Epoch 10/20\n",
            "1094/1094 [==============================] - 3s 3ms/step - loss: 1.4745 - accuracy: 0.4679 - val_loss: 1.5905 - val_accuracy: 0.4366\n",
            "Epoch 11/20\n",
            "1094/1094 [==============================] - 3s 3ms/step - loss: 1.4564 - accuracy: 0.4763 - val_loss: 1.5695 - val_accuracy: 0.4477\n",
            "Epoch 12/20\n",
            "1094/1094 [==============================] - 3s 3ms/step - loss: 1.4465 - accuracy: 0.4802 - val_loss: 1.5312 - val_accuracy: 0.4517\n",
            "Epoch 13/20\n",
            "1094/1094 [==============================] - 4s 3ms/step - loss: 1.4339 - accuracy: 0.4855 - val_loss: 1.5552 - val_accuracy: 0.4434\n",
            "Epoch 14/20\n",
            "1094/1094 [==============================] - 3s 3ms/step - loss: 1.4246 - accuracy: 0.4902 - val_loss: 1.5905 - val_accuracy: 0.4470\n",
            "Epoch 15/20\n",
            "1094/1094 [==============================] - 3s 3ms/step - loss: 1.4210 - accuracy: 0.4890 - val_loss: 1.5633 - val_accuracy: 0.4431\n",
            "Epoch 16/20\n",
            "1094/1094 [==============================] - 4s 3ms/step - loss: 1.4023 - accuracy: 0.4976 - val_loss: 1.5509 - val_accuracy: 0.4468\n",
            "Epoch 17/20\n",
            "1094/1094 [==============================] - 3s 3ms/step - loss: 1.3988 - accuracy: 0.4980 - val_loss: 1.5300 - val_accuracy: 0.4623\n",
            "Epoch 18/20\n",
            "1094/1094 [==============================] - 4s 3ms/step - loss: 1.3903 - accuracy: 0.5008 - val_loss: 1.5564 - val_accuracy: 0.4535\n",
            "Epoch 19/20\n",
            "1094/1094 [==============================] - 4s 3ms/step - loss: 1.3856 - accuracy: 0.5032 - val_loss: 1.5134 - val_accuracy: 0.4736\n",
            "Epoch 20/20\n",
            "1094/1094 [==============================] - 4s 3ms/step - loss: 1.3776 - accuracy: 0.5050 - val_loss: 1.5180 - val_accuracy: 0.4663\n"
          ],
          "name": "stdout"
        },
        {
          "output_type": "execute_result",
          "data": {
            "text/plain": [
              "<tensorflow.python.keras.callbacks.History at 0x7fcb302c9710>"
            ]
          },
          "metadata": {
            "tags": []
          },
          "execution_count": 18
        }
      ]
    },
    {
      "cell_type": "code",
      "metadata": {
        "id": "mNxdx0FYZMKU",
        "colab_type": "code",
        "colab": {}
      },
      "source": [
        "# Accuracy of the model is not upto the mark"
      ],
      "execution_count": null,
      "outputs": []
    },
    {
      "cell_type": "markdown",
      "metadata": {
        "id": "fqu95kl0ZwYK",
        "colab_type": "text"
      },
      "source": [
        "## Convolutional Neural Networks - Building CNN Classifiers"
      ]
    },
    {
      "cell_type": "markdown",
      "metadata": {
        "id": "4LbyofFnaRNC",
        "colab_type": "text"
      },
      "source": [
        "# Reshaping Image Data for Modeling¶\n",
        "# We do need to reshape our data before we train our model. Here we will work on grayscale, 1-channel images (image pixel tensors)"
      ]
    },
    {
      "cell_type": "code",
      "metadata": {
        "id": "Jq3MLgGVbPLG",
        "colab_type": "code",
        "colab": {
          "base_uri": "https://localhost:8080/",
          "height": 71
        },
        "outputId": "7848f01e-1e53-43cd-8288-68432ee7ea51"
      },
      "source": [
        "cifar10 = tf.keras.datasets.cifar10\n",
        "(train_images, train_labels), (test_images, test_labels) = cifar10.load_data()\n",
        "\n",
        "class_names = ['Ship', 'Aeroplane', 'Automobile', 'Bird', 'Cat',\n",
        "               'Deer', 'Dog', 'Frog', 'Horse', 'Truck']\n",
        "print('\\nTrain_images.shape: {}, of {}'.format(train_images.shape, train_images.dtype))\n",
        "print('Test_images.shape: {}, of {}'.format(test_images.shape, test_images.dtype))"
      ],
      "execution_count": null,
      "outputs": [
        {
          "output_type": "stream",
          "text": [
            "\n",
            "Train_images.shape: (50000, 32, 32, 3), of uint8\n",
            "Test_images.shape: (10000, 32, 32, 3), of uint8\n"
          ],
          "name": "stdout"
        }
      ]
    },
    {
      "cell_type": "code",
      "metadata": {
        "id": "Bel64ru-Q-dd",
        "colab_type": "code",
        "colab": {
          "base_uri": "https://localhost:8080/",
          "height": 71
        },
        "outputId": "9069e602-1c50-4d09-b7c6-ac3c392f2f53"
      },
      "source": [
        "# reshape for feeding into the model\n",
        "train_images_gr = train_images.reshape(train_images.shape[0], 32, 32, 3)\n",
        "test_images_gr = test_images.reshape(test_images.shape[0], 32, 32, 3)\n",
        "\n",
        "print('\\nTrain_images.shape: {}, of {}'.format(train_images_gr.shape, train_images_gr.dtype))\n",
        "print('Test_images.shape: {}, of {}'.format(test_images_gr.shape, test_images_gr.dtype))"
      ],
      "execution_count": null,
      "outputs": [
        {
          "output_type": "stream",
          "text": [
            "\n",
            "Train_images.shape: (50000, 32, 32, 3), of uint8\n",
            "Test_images.shape: (10000, 32, 32, 3), of uint8\n"
          ],
          "name": "stdout"
        }
      ]
    },
    {
      "cell_type": "markdown",
      "metadata": {
        "id": "yiGmRTlea06e",
        "colab_type": "text"
      },
      "source": [
        "# Build CNN Model Architecture¶\n",
        "# We will now build our basic 2-layer CNN model architecture."
      ]
    },
    {
      "cell_type": "code",
      "metadata": {
        "id": "2NmWS1SvQ-rO",
        "colab_type": "code",
        "colab": {}
      },
      "source": [
        "# define input shape\n",
        "INPUT_SHAPE = (32, 32, 3)\n"
      ],
      "execution_count": null,
      "outputs": []
    },
    {
      "cell_type": "code",
      "metadata": {
        "id": "UQJSSY7hQ-2X",
        "colab_type": "code",
        "colab": {
          "base_uri": "https://localhost:8080/",
          "height": 521
        },
        "outputId": "47db1eb7-366f-4ec7-b221-1f63c119be49"
      },
      "source": [
        "# define sequential model\n",
        "model = tf.keras.models.Sequential()\n",
        "# define conv-pool layers - set 1\n",
        "model.add(tf.keras.layers.Conv2D(filters=16, kernel_size=(3, 3), strides=(1, 1), \n",
        "                                activation='relu', padding='valid', input_shape=INPUT_SHAPE))\n",
        "model.add(tf.keras.layers.MaxPooling2D(pool_size=(2, 2)))\n",
        "# define conv-pool layers - set 2\n",
        "model.add(tf.keras.layers.Conv2D(filters=32, kernel_size=(3, 3), strides=(1, 1), \n",
        "                                activation='relu', padding='valid', input_shape=INPUT_SHAPE))\n",
        "model.add(tf.keras.layers.MaxPooling2D(pool_size=(2, 2)))\n",
        "\n",
        "# add flatten layer\n",
        "model.add(tf.keras.layers.Flatten())\n",
        "\n",
        "# add dense layers with some dropout\n",
        "model.add(tf.keras.layers.Dense(256, activation='relu'))\n",
        "model.add(tf.keras.layers.Dropout(rate=0.3))\n",
        "model.add(tf.keras.layers.Dense(256, activation='relu'))\n",
        "model.add(tf.keras.layers.Dropout(rate=0.3))\n",
        "\n",
        "# add output layer\n",
        "model.add(tf.keras.layers.Dense(10, activation='softmax'))\n",
        "\n",
        "# compile model\n",
        "model.compile(optimizer='adam', \n",
        "              loss='sparse_categorical_crossentropy', \n",
        "              metrics=['accuracy'])\n",
        "\n",
        "# view model layers\n",
        "model.summary()"
      ],
      "execution_count": null,
      "outputs": [
        {
          "output_type": "stream",
          "text": [
            "Model: \"sequential_1\"\n",
            "_________________________________________________________________\n",
            "Layer (type)                 Output Shape              Param #   \n",
            "=================================================================\n",
            "conv2d (Conv2D)              (None, 30, 30, 16)        448       \n",
            "_________________________________________________________________\n",
            "max_pooling2d (MaxPooling2D) (None, 15, 15, 16)        0         \n",
            "_________________________________________________________________\n",
            "conv2d_1 (Conv2D)            (None, 13, 13, 32)        4640      \n",
            "_________________________________________________________________\n",
            "max_pooling2d_1 (MaxPooling2 (None, 6, 6, 32)          0         \n",
            "_________________________________________________________________\n",
            "flatten (Flatten)            (None, 1152)              0         \n",
            "_________________________________________________________________\n",
            "dense_3 (Dense)              (None, 256)               295168    \n",
            "_________________________________________________________________\n",
            "dropout (Dropout)            (None, 256)               0         \n",
            "_________________________________________________________________\n",
            "dense_4 (Dense)              (None, 256)               65792     \n",
            "_________________________________________________________________\n",
            "dropout_1 (Dropout)          (None, 256)               0         \n",
            "_________________________________________________________________\n",
            "dense_5 (Dense)              (None, 10)                2570      \n",
            "=================================================================\n",
            "Total params: 368,618\n",
            "Trainable params: 368,618\n",
            "Non-trainable params: 0\n",
            "_________________________________________________________________\n"
          ],
          "name": "stdout"
        }
      ]
    },
    {
      "cell_type": "markdown",
      "metadata": {
        "id": "Myj2KSbJa-_z",
        "colab_type": "text"
      },
      "source": [
        "# Model Training¶\n",
        "## *Let’s train our model for 100 epochs and look at the performance. We do apply an early-stopping to stop the model training immediately once we don't see an improvement in validation-loss over the last 2 epochs using the EarlyStopping callback.*"
      ]
    },
    {
      "cell_type": "code",
      "metadata": {
        "id": "uVfJuogeO-aJ",
        "colab_type": "code",
        "colab": {
          "base_uri": "https://localhost:8080/",
          "height": 305
        },
        "outputId": "68d75001-b87b-4488-e647-ca49e4d97d75"
      },
      "source": [
        "\n",
        "\n",
        "EPOCHS = 100\n",
        "train_images_scaled = train_images_gr / 255.\n",
        "es_callback = tf.keras.callbacks.EarlyStopping(monitor='val_loss', patience=2, \n",
        "                                               restore_best_weights=True,\n",
        "                                               verbose=1)\n",
        "\n",
        "history = model.fit(train_images_scaled, train_labels,\n",
        "                    batch_size=32,\n",
        "                    callbacks=[es_callback], \n",
        "                    validation_split=0.2, epochs=EPOCHS,\n",
        "                    verbose=1)"
      ],
      "execution_count": null,
      "outputs": [
        {
          "output_type": "stream",
          "text": [
            "Epoch 1/100\n",
            "1250/1250 [==============================] - 4s 3ms/step - loss: 1.5676 - accuracy: 0.4250 - val_loss: 1.2778 - val_accuracy: 0.5412\n",
            "Epoch 2/100\n",
            "1250/1250 [==============================] - 4s 3ms/step - loss: 1.2451 - accuracy: 0.5540 - val_loss: 1.1449 - val_accuracy: 0.5977\n",
            "Epoch 3/100\n",
            "1250/1250 [==============================] - 4s 3ms/step - loss: 1.1121 - accuracy: 0.6082 - val_loss: 1.0549 - val_accuracy: 0.6303\n",
            "Epoch 4/100\n",
            "1250/1250 [==============================] - 4s 3ms/step - loss: 1.0124 - accuracy: 0.6440 - val_loss: 1.0102 - val_accuracy: 0.6430\n",
            "Epoch 5/100\n",
            "1250/1250 [==============================] - 4s 3ms/step - loss: 0.9306 - accuracy: 0.6700 - val_loss: 0.9579 - val_accuracy: 0.6611\n",
            "Epoch 6/100\n",
            "1250/1250 [==============================] - 4s 3ms/step - loss: 0.8628 - accuracy: 0.6940 - val_loss: 0.9851 - val_accuracy: 0.6590\n",
            "Epoch 7/100\n",
            "1243/1250 [============================>.] - ETA: 0s - loss: 0.8020 - accuracy: 0.7183Restoring model weights from the end of the best epoch.\n",
            "1250/1250 [==============================] - 4s 3ms/step - loss: 0.8022 - accuracy: 0.7181 - val_loss: 1.0122 - val_accuracy: 0.6575\n",
            "Epoch 00007: early stopping\n"
          ],
          "name": "stdout"
        }
      ]
    },
    {
      "cell_type": "markdown",
      "metadata": {
        "id": "gyV8nLrDbfEt",
        "colab_type": "text"
      },
      "source": [
        "# Plot Learning Curves"
      ]
    },
    {
      "cell_type": "code",
      "metadata": {
        "id": "D7kpjwaAR38-",
        "colab_type": "code",
        "colab": {
          "base_uri": "https://localhost:8080/",
          "height": 268
        },
        "outputId": "5cc56e42-93b1-41ad-e242-12baec582752"
      },
      "source": [
        "import pandas as pd\n",
        "\n",
        "fig, ax = plt.subplots(1, 2, figsize=(10, 4))\n",
        "\n",
        "history_df = pd.DataFrame(history.history)\n",
        "history_df[['loss', 'val_loss']].plot(kind='line', ax=ax[0])\n",
        "history_df[['accuracy', 'val_accuracy']].plot(kind='line', ax=ax[1]);"
      ],
      "execution_count": null,
      "outputs": [
        {
          "output_type": "display_data",
          "data": {
            "image/png": "[encoded data removed]",
            "text/plain": [
              "<Figure size 720x288 with 2 Axes>"
            ]
          },
          "metadata": {
            "tags": [],
            "needs_background": "light"
          }
        }
      ]
    },
    {
      "cell_type": "markdown",
      "metadata": {
        "id": "QHbgHgglbmJQ",
        "colab_type": "text"
      },
      "source": [
        "#Importing new test dataset"
      ]
    },
    {
      "cell_type": "code",
      "metadata": {
        "id": "bniVYow8TSXb",
        "colab_type": "code",
        "colab": {
          "base_uri": "https://localhost:8080/",
          "height": 252
        },
        "outputId": "65a70701-93db-48b5-ad91-5cc44ebf9c6f"
      },
      "source": [
        "import pandas as pd\n",
        "evaluation_set=pd.read_csv(\"https://raw.githubusercontent.com/dphi-official/Datasets/master/cifar_image_flattened_pixels.csv\")\n",
        "evaluation_set.head()"
      ],
      "execution_count": null,
      "outputs": [
        {
          "output_type": "execute_result",
          "data": {
            "text/html": [
              "<div>\n",
              "<style scoped>\n",
              "    .dataframe tbody tr th:only-of-type {\n",
              "        vertical-align: middle;\n",
              "    }\n",
              "\n",
              "    .dataframe tbody tr th {\n",
              "        vertical-align: top;\n",
              "    }\n",
              "\n",
              "    .dataframe thead th {\n",
              "        text-align: right;\n",
              "    }\n",
              "</style>\n",
              "<table border=\"1\" class=\"dataframe\">\n",
              "  <thead>\n",
              "    <tr style=\"text-align: right;\">\n",
              "      <th></th>\n",
              "      <th>0</th>\n",
              "      <th>1</th>\n",
              "      <th>2</th>\n",
              "      <th>3</th>\n",
              "      <th>4</th>\n",
              "      <th>5</th>\n",
              "      <th>6</th>\n",
              "      <th>7</th>\n",
              "      <th>8</th>\n",
              "      <th>9</th>\n",
              "      <th>10</th>\n",
              "      <th>11</th>\n",
              "      <th>12</th>\n",
              "      <th>13</th>\n",
              "      <th>14</th>\n",
              "      <th>15</th>\n",
              "      <th>16</th>\n",
              "      <th>17</th>\n",
              "      <th>18</th>\n",
              "      <th>19</th>\n",
              "      <th>20</th>\n",
              "      <th>21</th>\n",
              "      <th>22</th>\n",
              "      <th>23</th>\n",
              "      <th>24</th>\n",
              "      <th>25</th>\n",
              "      <th>26</th>\n",
              "      <th>27</th>\n",
              "      <th>28</th>\n",
              "      <th>29</th>\n",
              "      <th>30</th>\n",
              "      <th>31</th>\n",
              "      <th>32</th>\n",
              "      <th>33</th>\n",
              "      <th>34</th>\n",
              "      <th>35</th>\n",
              "      <th>36</th>\n",
              "      <th>37</th>\n",
              "      <th>38</th>\n",
              "      <th>39</th>\n",
              "      <th>...</th>\n",
              "      <th>3032</th>\n",
              "      <th>3033</th>\n",
              "      <th>3034</th>\n",
              "      <th>3035</th>\n",
              "      <th>3036</th>\n",
              "      <th>3037</th>\n",
              "      <th>3038</th>\n",
              "      <th>3039</th>\n",
              "      <th>3040</th>\n",
              "      <th>3041</th>\n",
              "      <th>3042</th>\n",
              "      <th>3043</th>\n",
              "      <th>3044</th>\n",
              "      <th>3045</th>\n",
              "      <th>3046</th>\n",
              "      <th>3047</th>\n",
              "      <th>3048</th>\n",
              "      <th>3049</th>\n",
              "      <th>3050</th>\n",
              "      <th>3051</th>\n",
              "      <th>3052</th>\n",
              "      <th>3053</th>\n",
              "      <th>3054</th>\n",
              "      <th>3055</th>\n",
              "      <th>3056</th>\n",
              "      <th>3057</th>\n",
              "      <th>3058</th>\n",
              "      <th>3059</th>\n",
              "      <th>3060</th>\n",
              "      <th>3061</th>\n",
              "      <th>3062</th>\n",
              "      <th>3063</th>\n",
              "      <th>3064</th>\n",
              "      <th>3065</th>\n",
              "      <th>3066</th>\n",
              "      <th>3067</th>\n",
              "      <th>3068</th>\n",
              "      <th>3069</th>\n",
              "      <th>3070</th>\n",
              "      <th>3071</th>\n",
              "    </tr>\n",
              "  </thead>\n",
              "  <tbody>\n",
              "    <tr>\n",
              "      <th>0</th>\n",
              "      <td>98</td>\n",
              "      <td>105</td>\n",
              "      <td>108</td>\n",
              "      <td>92</td>\n",
              "      <td>101</td>\n",
              "      <td>106</td>\n",
              "      <td>91</td>\n",
              "      <td>101</td>\n",
              "      <td>107</td>\n",
              "      <td>93</td>\n",
              "      <td>104</td>\n",
              "      <td>108</td>\n",
              "      <td>89</td>\n",
              "      <td>100</td>\n",
              "      <td>104</td>\n",
              "      <td>88</td>\n",
              "      <td>99</td>\n",
              "      <td>103</td>\n",
              "      <td>90</td>\n",
              "      <td>101</td>\n",
              "      <td>106</td>\n",
              "      <td>95</td>\n",
              "      <td>105</td>\n",
              "      <td>110</td>\n",
              "      <td>99</td>\n",
              "      <td>108</td>\n",
              "      <td>110</td>\n",
              "      <td>109</td>\n",
              "      <td>117</td>\n",
              "      <td>116</td>\n",
              "      <td>119</td>\n",
              "      <td>125</td>\n",
              "      <td>123</td>\n",
              "      <td>125</td>\n",
              "      <td>130</td>\n",
              "      <td>128</td>\n",
              "      <td>134</td>\n",
              "      <td>140</td>\n",
              "      <td>138</td>\n",
              "      <td>140</td>\n",
              "      <td>...</td>\n",
              "      <td>184</td>\n",
              "      <td>178</td>\n",
              "      <td>177</td>\n",
              "      <td>172</td>\n",
              "      <td>190</td>\n",
              "      <td>188</td>\n",
              "      <td>184</td>\n",
              "      <td>220</td>\n",
              "      <td>219</td>\n",
              "      <td>214</td>\n",
              "      <td>195</td>\n",
              "      <td>193</td>\n",
              "      <td>187</td>\n",
              "      <td>176</td>\n",
              "      <td>174</td>\n",
              "      <td>169</td>\n",
              "      <td>175</td>\n",
              "      <td>173</td>\n",
              "      <td>168</td>\n",
              "      <td>192</td>\n",
              "      <td>189</td>\n",
              "      <td>185</td>\n",
              "      <td>185</td>\n",
              "      <td>182</td>\n",
              "      <td>178</td>\n",
              "      <td>168</td>\n",
              "      <td>165</td>\n",
              "      <td>161</td>\n",
              "      <td>178</td>\n",
              "      <td>176</td>\n",
              "      <td>171</td>\n",
              "      <td>183</td>\n",
              "      <td>182</td>\n",
              "      <td>176</td>\n",
              "      <td>175</td>\n",
              "      <td>175</td>\n",
              "      <td>168</td>\n",
              "      <td>181</td>\n",
              "      <td>181</td>\n",
              "      <td>175</td>\n",
              "    </tr>\n",
              "    <tr>\n",
              "      <th>1</th>\n",
              "      <td>101</td>\n",
              "      <td>108</td>\n",
              "      <td>101</td>\n",
              "      <td>101</td>\n",
              "      <td>108</td>\n",
              "      <td>101</td>\n",
              "      <td>102</td>\n",
              "      <td>109</td>\n",
              "      <td>102</td>\n",
              "      <td>103</td>\n",
              "      <td>110</td>\n",
              "      <td>103</td>\n",
              "      <td>105</td>\n",
              "      <td>112</td>\n",
              "      <td>104</td>\n",
              "      <td>105</td>\n",
              "      <td>114</td>\n",
              "      <td>109</td>\n",
              "      <td>105</td>\n",
              "      <td>116</td>\n",
              "      <td>112</td>\n",
              "      <td>106</td>\n",
              "      <td>115</td>\n",
              "      <td>110</td>\n",
              "      <td>108</td>\n",
              "      <td>115</td>\n",
              "      <td>108</td>\n",
              "      <td>107</td>\n",
              "      <td>115</td>\n",
              "      <td>107</td>\n",
              "      <td>104</td>\n",
              "      <td>115</td>\n",
              "      <td>106</td>\n",
              "      <td>104</td>\n",
              "      <td>116</td>\n",
              "      <td>108</td>\n",
              "      <td>108</td>\n",
              "      <td>119</td>\n",
              "      <td>115</td>\n",
              "      <td>108</td>\n",
              "      <td>...</td>\n",
              "      <td>149</td>\n",
              "      <td>153</td>\n",
              "      <td>159</td>\n",
              "      <td>164</td>\n",
              "      <td>132</td>\n",
              "      <td>140</td>\n",
              "      <td>142</td>\n",
              "      <td>134</td>\n",
              "      <td>144</td>\n",
              "      <td>145</td>\n",
              "      <td>112</td>\n",
              "      <td>119</td>\n",
              "      <td>118</td>\n",
              "      <td>108</td>\n",
              "      <td>115</td>\n",
              "      <td>111</td>\n",
              "      <td>114</td>\n",
              "      <td>124</td>\n",
              "      <td>122</td>\n",
              "      <td>106</td>\n",
              "      <td>118</td>\n",
              "      <td>116</td>\n",
              "      <td>101</td>\n",
              "      <td>113</td>\n",
              "      <td>108</td>\n",
              "      <td>100</td>\n",
              "      <td>111</td>\n",
              "      <td>102</td>\n",
              "      <td>99</td>\n",
              "      <td>110</td>\n",
              "      <td>103</td>\n",
              "      <td>100</td>\n",
              "      <td>109</td>\n",
              "      <td>104</td>\n",
              "      <td>100</td>\n",
              "      <td>109</td>\n",
              "      <td>103</td>\n",
              "      <td>100</td>\n",
              "      <td>109</td>\n",
              "      <td>102</td>\n",
              "    </tr>\n",
              "    <tr>\n",
              "      <th>2</th>\n",
              "      <td>85</td>\n",
              "      <td>115</td>\n",
              "      <td>27</td>\n",
              "      <td>63</td>\n",
              "      <td>90</td>\n",
              "      <td>25</td>\n",
              "      <td>37</td>\n",
              "      <td>66</td>\n",
              "      <td>15</td>\n",
              "      <td>69</td>\n",
              "      <td>93</td>\n",
              "      <td>49</td>\n",
              "      <td>40</td>\n",
              "      <td>52</td>\n",
              "      <td>36</td>\n",
              "      <td>18</td>\n",
              "      <td>24</td>\n",
              "      <td>18</td>\n",
              "      <td>31</td>\n",
              "      <td>38</td>\n",
              "      <td>27</td>\n",
              "      <td>79</td>\n",
              "      <td>91</td>\n",
              "      <td>61</td>\n",
              "      <td>104</td>\n",
              "      <td>117</td>\n",
              "      <td>78</td>\n",
              "      <td>72</td>\n",
              "      <td>84</td>\n",
              "      <td>52</td>\n",
              "      <td>68</td>\n",
              "      <td>79</td>\n",
              "      <td>52</td>\n",
              "      <td>122</td>\n",
              "      <td>131</td>\n",
              "      <td>85</td>\n",
              "      <td>104</td>\n",
              "      <td>113</td>\n",
              "      <td>67</td>\n",
              "      <td>77</td>\n",
              "      <td>...</td>\n",
              "      <td>139</td>\n",
              "      <td>174</td>\n",
              "      <td>188</td>\n",
              "      <td>139</td>\n",
              "      <td>182</td>\n",
              "      <td>198</td>\n",
              "      <td>150</td>\n",
              "      <td>179</td>\n",
              "      <td>194</td>\n",
              "      <td>147</td>\n",
              "      <td>175</td>\n",
              "      <td>186</td>\n",
              "      <td>142</td>\n",
              "      <td>187</td>\n",
              "      <td>195</td>\n",
              "      <td>158</td>\n",
              "      <td>176</td>\n",
              "      <td>191</td>\n",
              "      <td>142</td>\n",
              "      <td>169</td>\n",
              "      <td>190</td>\n",
              "      <td>132</td>\n",
              "      <td>177</td>\n",
              "      <td>193</td>\n",
              "      <td>144</td>\n",
              "      <td>180</td>\n",
              "      <td>189</td>\n",
              "      <td>147</td>\n",
              "      <td>175</td>\n",
              "      <td>190</td>\n",
              "      <td>141</td>\n",
              "      <td>172</td>\n",
              "      <td>193</td>\n",
              "      <td>136</td>\n",
              "      <td>173</td>\n",
              "      <td>192</td>\n",
              "      <td>138</td>\n",
              "      <td>179</td>\n",
              "      <td>192</td>\n",
              "      <td>149</td>\n",
              "    </tr>\n",
              "    <tr>\n",
              "      <th>3</th>\n",
              "      <td>213</td>\n",
              "      <td>213</td>\n",
              "      <td>214</td>\n",
              "      <td>215</td>\n",
              "      <td>214</td>\n",
              "      <td>218</td>\n",
              "      <td>220</td>\n",
              "      <td>218</td>\n",
              "      <td>226</td>\n",
              "      <td>223</td>\n",
              "      <td>221</td>\n",
              "      <td>233</td>\n",
              "      <td>226</td>\n",
              "      <td>225</td>\n",
              "      <td>231</td>\n",
              "      <td>225</td>\n",
              "      <td>226</td>\n",
              "      <td>223</td>\n",
              "      <td>223</td>\n",
              "      <td>223</td>\n",
              "      <td>223</td>\n",
              "      <td>227</td>\n",
              "      <td>226</td>\n",
              "      <td>231</td>\n",
              "      <td>229</td>\n",
              "      <td>228</td>\n",
              "      <td>236</td>\n",
              "      <td>229</td>\n",
              "      <td>228</td>\n",
              "      <td>236</td>\n",
              "      <td>230</td>\n",
              "      <td>229</td>\n",
              "      <td>236</td>\n",
              "      <td>228</td>\n",
              "      <td>227</td>\n",
              "      <td>235</td>\n",
              "      <td>227</td>\n",
              "      <td>226</td>\n",
              "      <td>234</td>\n",
              "      <td>225</td>\n",
              "      <td>...</td>\n",
              "      <td>20</td>\n",
              "      <td>111</td>\n",
              "      <td>41</td>\n",
              "      <td>28</td>\n",
              "      <td>111</td>\n",
              "      <td>63</td>\n",
              "      <td>60</td>\n",
              "      <td>120</td>\n",
              "      <td>92</td>\n",
              "      <td>98</td>\n",
              "      <td>138</td>\n",
              "      <td>117</td>\n",
              "      <td>129</td>\n",
              "      <td>153</td>\n",
              "      <td>140</td>\n",
              "      <td>158</td>\n",
              "      <td>172</td>\n",
              "      <td>161</td>\n",
              "      <td>187</td>\n",
              "      <td>188</td>\n",
              "      <td>174</td>\n",
              "      <td>205</td>\n",
              "      <td>195</td>\n",
              "      <td>182</td>\n",
              "      <td>212</td>\n",
              "      <td>199</td>\n",
              "      <td>185</td>\n",
              "      <td>216</td>\n",
              "      <td>197</td>\n",
              "      <td>186</td>\n",
              "      <td>216</td>\n",
              "      <td>193</td>\n",
              "      <td>194</td>\n",
              "      <td>209</td>\n",
              "      <td>201</td>\n",
              "      <td>204</td>\n",
              "      <td>216</td>\n",
              "      <td>203</td>\n",
              "      <td>201</td>\n",
              "      <td>237</td>\n",
              "    </tr>\n",
              "    <tr>\n",
              "      <th>4</th>\n",
              "      <td>41</td>\n",
              "      <td>74</td>\n",
              "      <td>144</td>\n",
              "      <td>41</td>\n",
              "      <td>75</td>\n",
              "      <td>139</td>\n",
              "      <td>41</td>\n",
              "      <td>75</td>\n",
              "      <td>139</td>\n",
              "      <td>41</td>\n",
              "      <td>74</td>\n",
              "      <td>144</td>\n",
              "      <td>39</td>\n",
              "      <td>76</td>\n",
              "      <td>140</td>\n",
              "      <td>37</td>\n",
              "      <td>79</td>\n",
              "      <td>130</td>\n",
              "      <td>38</td>\n",
              "      <td>77</td>\n",
              "      <td>135</td>\n",
              "      <td>40</td>\n",
              "      <td>75</td>\n",
              "      <td>142</td>\n",
              "      <td>43</td>\n",
              "      <td>72</td>\n",
              "      <td>145</td>\n",
              "      <td>47</td>\n",
              "      <td>71</td>\n",
              "      <td>146</td>\n",
              "      <td>47</td>\n",
              "      <td>73</td>\n",
              "      <td>140</td>\n",
              "      <td>43</td>\n",
              "      <td>75</td>\n",
              "      <td>140</td>\n",
              "      <td>39</td>\n",
              "      <td>77</td>\n",
              "      <td>143</td>\n",
              "      <td>37</td>\n",
              "      <td>...</td>\n",
              "      <td>149</td>\n",
              "      <td>42</td>\n",
              "      <td>71</td>\n",
              "      <td>135</td>\n",
              "      <td>43</td>\n",
              "      <td>72</td>\n",
              "      <td>125</td>\n",
              "      <td>42</td>\n",
              "      <td>72</td>\n",
              "      <td>122</td>\n",
              "      <td>51</td>\n",
              "      <td>72</td>\n",
              "      <td>117</td>\n",
              "      <td>64</td>\n",
              "      <td>70</td>\n",
              "      <td>109</td>\n",
              "      <td>65</td>\n",
              "      <td>72</td>\n",
              "      <td>99</td>\n",
              "      <td>53</td>\n",
              "      <td>76</td>\n",
              "      <td>113</td>\n",
              "      <td>35</td>\n",
              "      <td>75</td>\n",
              "      <td>136</td>\n",
              "      <td>30</td>\n",
              "      <td>81</td>\n",
              "      <td>140</td>\n",
              "      <td>34</td>\n",
              "      <td>79</td>\n",
              "      <td>133</td>\n",
              "      <td>41</td>\n",
              "      <td>77</td>\n",
              "      <td>130</td>\n",
              "      <td>44</td>\n",
              "      <td>75</td>\n",
              "      <td>133</td>\n",
              "      <td>42</td>\n",
              "      <td>73</td>\n",
              "      <td>144</td>\n",
              "    </tr>\n",
              "  </tbody>\n",
              "</table>\n",
              "<p>5 rows × 3072 columns</p>\n",
              "</div>"
            ],
            "text/plain": [
              "     0    1    2    3    4    5    6  ...  3065  3066  3067  3068  3069  3070  3071\n",
              "0   98  105  108   92  101  106   91  ...   176   175   175   168   181   181   175\n",
              "1  101  108  101  101  108  101  102  ...   104   100   109   103   100   109   102\n",
              "2   85  115   27   63   90   25   37  ...   136   173   192   138   179   192   149\n",
              "3  213  213  214  215  214  218  220  ...   209   201   204   216   203   201   237\n",
              "4   41   74  144   41   75  139   41  ...   130    44    75   133    42    73   144\n",
              "\n",
              "[5 rows x 3072 columns]"
            ]
          },
          "metadata": {
            "tags": []
          },
          "execution_count": 25
        }
      ]
    },
    {
      "cell_type": "code",
      "metadata": {
        "id": "fSVnJL5HTbPf",
        "colab_type": "code",
        "colab": {}
      },
      "source": [
        "# Normalization\n",
        "evaluation_set = evaluation_set/255."
      ],
      "execution_count": null,
      "outputs": []
    },
    {
      "cell_type": "code",
      "metadata": {
        "id": "0BfsJ5SATfRh",
        "colab_type": "code",
        "colab": {}
      },
      "source": [
        "# Reshaping the Evaluation Data\n",
        "import numpy as np\n",
        "arr = np.array(evaluation_set)\n",
        "arr = np.array([x.reshape(32,32,3) for x in arr])"
      ],
      "execution_count": null,
      "outputs": []
    },
    {
      "cell_type": "code",
      "metadata": {
        "id": "5XZfPiCUTiJf",
        "colab_type": "code",
        "colab": {}
      },
      "source": [
        "pred=model.predict(arr)"
      ],
      "execution_count": null,
      "outputs": []
    },
    {
      "cell_type": "code",
      "metadata": {
        "id": "HjZjpHYeTl-Q",
        "colab_type": "code",
        "colab": {}
      },
      "source": [
        "prediction_labels = np.argmax(pred, axis=1)"
      ],
      "execution_count": null,
      "outputs": []
    },
    {
      "cell_type": "code",
      "metadata": {
        "id": "mCinqvssTpTc",
        "colab_type": "code",
        "colab": {}
      },
      "source": [
        "res=pd.DataFrame(prediction_labels)\n"
      ],
      "execution_count": null,
      "outputs": []
    },
    {
      "cell_type": "code",
      "metadata": {
        "id": "2uNIWKLfTvGD",
        "colab_type": "code",
        "colab": {}
      },
      "source": [
        "res.head()"
      ],
      "execution_count": null,
      "outputs": []
    },
    {
      "cell_type": "code",
      "metadata": {
        "id": "L4V5YtpiTxlv",
        "colab_type": "code",
        "colab": {}
      },
      "source": [
        "# To download the csv file locally\n",
        "from google.colab import files\n",
        "res.to_csv(\"predictions.csv\",index=False)\n",
        "files.download(\"predictions.csv\")"
      ],
      "execution_count": null,
      "outputs": []
    },
    {
      "cell_type": "markdown",
      "metadata": {
        "id": "MswPtakOTbB9",
        "colab_type": "text"
      },
      "source": [
        "# Lets Use Transfer Learning here"
      ]
    },
    {
      "cell_type": "code",
      "metadata": {
        "id": "d9-nRj7qpXWc",
        "colab_type": "code",
        "colab": {}
      },
      "source": [
        "# Loading the Ciphar Dataset\n",
        "import tensorflow as tf\n",
        "from tensorflow.keras.datasets.cifar10 import load_data    # To load the MNIST digit dataset\n",
        "\n",
        "(X_train, y_train) , (X_test, y_test) = load_data()      # Loading data"
      ],
      "execution_count": null,
      "outputs": []
    },
    {
      "cell_type": "code",
      "metadata": {
        "id": "fGA_yvAVnDWy",
        "colab_type": "code",
        "colab": {
          "base_uri": "https://localhost:8080/",
          "height": 107
        },
        "outputId": "8206655c-d7bc-4127-ae3a-5a5c73a26fc6"
      },
      "source": [
        "%%time\n",
        "\n",
        "IMG_DIMS = (32, 32, 3)\n",
        "\n",
        "print('\\nTrain_images.shape: {}, of {}'.format(X_train.shape, X_train.dtype))\n",
        "print('Test_images.shape: {}, of {}'.format(X_test.shape, X_test.dtype))"
      ],
      "execution_count": null,
      "outputs": [
        {
          "output_type": "stream",
          "text": [
            "\n",
            "Train_images.shape: (50000, 32, 32, 3), of uint8\n",
            "Test_images.shape: (10000, 32, 32, 3), of uint8\n",
            "CPU times: user 136 µs, sys: 43 µs, total: 179 µs\n",
            "Wall time: 152 µs\n"
          ],
          "name": "stdout"
        }
      ]
    },
    {
      "cell_type": "code",
      "metadata": {
        "id": "F9b-o5mhnI9i",
        "colab_type": "code",
        "colab": {
          "base_uri": "https://localhost:8080/",
          "height": 953
        },
        "outputId": "26de571d-9da5-4a79-dd8e-0fee445a695d"
      },
      "source": [
        "# define input shape\n",
        "INPUT_SHAPE = (32, 32, 3)\n",
        "\n",
        "# get the VGG19 model\n",
        "vgg_layers = tf.keras.applications.vgg19.VGG19(weights='imagenet', include_top=False, \n",
        "                                               input_shape=INPUT_SHAPE)\n",
        "\n",
        "vgg_layers.summary()"
      ],
      "execution_count": null,
      "outputs": [
        {
          "output_type": "stream",
          "text": [
            "Model: \"vgg19\"\n",
            "_________________________________________________________________\n",
            "Layer (type)                 Output Shape              Param #   \n",
            "=================================================================\n",
            "input_2 (InputLayer)         [(None, 32, 32, 3)]       0         \n",
            "_________________________________________________________________\n",
            "block1_conv1 (Conv2D)        (None, 32, 32, 64)        1792      \n",
            "_________________________________________________________________\n",
            "block1_conv2 (Conv2D)        (None, 32, 32, 64)        36928     \n",
            "_________________________________________________________________\n",
            "block1_pool (MaxPooling2D)   (None, 16, 16, 64)        0         \n",
            "_________________________________________________________________\n",
            "block2_conv1 (Conv2D)        (None, 16, 16, 128)       73856     \n",
            "_________________________________________________________________\n",
            "block2_conv2 (Conv2D)        (None, 16, 16, 128)       147584    \n",
            "_________________________________________________________________\n",
            "block2_pool (MaxPooling2D)   (None, 8, 8, 128)         0         \n",
            "_________________________________________________________________\n",
            "block3_conv1 (Conv2D)        (None, 8, 8, 256)         295168    \n",
            "_________________________________________________________________\n",
            "block3_conv2 (Conv2D)        (None, 8, 8, 256)         590080    \n",
            "_________________________________________________________________\n",
            "block3_conv3 (Conv2D)        (None, 8, 8, 256)         590080    \n",
            "_________________________________________________________________\n",
            "block3_conv4 (Conv2D)        (None, 8, 8, 256)         590080    \n",
            "_________________________________________________________________\n",
            "block3_pool (MaxPooling2D)   (None, 4, 4, 256)         0         \n",
            "_________________________________________________________________\n",
            "block4_conv1 (Conv2D)        (None, 4, 4, 512)         1180160   \n",
            "_________________________________________________________________\n",
            "block4_conv2 (Conv2D)        (None, 4, 4, 512)         2359808   \n",
            "_________________________________________________________________\n",
            "block4_conv3 (Conv2D)        (None, 4, 4, 512)         2359808   \n",
            "_________________________________________________________________\n",
            "block4_conv4 (Conv2D)        (None, 4, 4, 512)         2359808   \n",
            "_________________________________________________________________\n",
            "block4_pool (MaxPooling2D)   (None, 2, 2, 512)         0         \n",
            "_________________________________________________________________\n",
            "block5_conv1 (Conv2D)        (None, 2, 2, 512)         2359808   \n",
            "_________________________________________________________________\n",
            "block5_conv2 (Conv2D)        (None, 2, 2, 512)         2359808   \n",
            "_________________________________________________________________\n",
            "block5_conv3 (Conv2D)        (None, 2, 2, 512)         2359808   \n",
            "_________________________________________________________________\n",
            "block5_conv4 (Conv2D)        (None, 2, 2, 512)         2359808   \n",
            "_________________________________________________________________\n",
            "block5_pool (MaxPooling2D)   (None, 1, 1, 512)         0         \n",
            "=================================================================\n",
            "Total params: 20,024,384\n",
            "Trainable params: 20,024,384\n",
            "Non-trainable params: 0\n",
            "_________________________________________________________________\n"
          ],
          "name": "stdout"
        }
      ]
    },
    {
      "cell_type": "code",
      "metadata": {
        "id": "AJdCfqyTnO4J",
        "colab_type": "code",
        "colab": {
          "base_uri": "https://localhost:8080/",
          "height": 413
        },
        "outputId": "a6a069e2-afb7-4b14-c6f2-2d06b3789536"
      },
      "source": [
        "# Fine-tune all the layers\n",
        "for layer in vgg_layers.layers:\n",
        "    layer.trainable = True\n",
        "\n",
        "# Check the trainable status of the individual layers\n",
        "for layer in vgg_layers.layers:\n",
        "    print(layer, layer.trainable)"
      ],
      "execution_count": null,
      "outputs": [
        {
          "output_type": "stream",
          "text": [
            "<tensorflow.python.keras.engine.input_layer.InputLayer object at 0x7fcad4250a90> True\n",
            "<tensorflow.python.keras.layers.convolutional.Conv2D object at 0x7fcad4250898> True\n",
            "<tensorflow.python.keras.layers.convolutional.Conv2D object at 0x7fcad42506d8> True\n",
            "<tensorflow.python.keras.layers.pooling.MaxPooling2D object at 0x7fcad4240128> True\n",
            "<tensorflow.python.keras.layers.convolutional.Conv2D object at 0x7fcad4240a20> True\n",
            "<tensorflow.python.keras.layers.convolutional.Conv2D object at 0x7fcad4062898> True\n",
            "<tensorflow.python.keras.layers.pooling.MaxPooling2D object at 0x7fcad4062940> True\n",
            "<tensorflow.python.keras.layers.convolutional.Conv2D object at 0x7fcad40554e0> True\n",
            "<tensorflow.python.keras.layers.convolutional.Conv2D object at 0x7fcad404c358> True\n",
            "<tensorflow.python.keras.layers.convolutional.Conv2D object at 0x7fcad404c780> True\n",
            "<tensorflow.python.keras.layers.convolutional.Conv2D object at 0x7fcad404c7b8> True\n",
            "<tensorflow.python.keras.layers.pooling.MaxPooling2D object at 0x7fcad4045f28> True\n",
            "<tensorflow.python.keras.layers.convolutional.Conv2D object at 0x7fcad4045278> True\n",
            "<tensorflow.python.keras.layers.convolutional.Conv2D object at 0x7fcad404ccf8> True\n",
            "<tensorflow.python.keras.layers.convolutional.Conv2D object at 0x7fcad40751d0> True\n",
            "<tensorflow.python.keras.layers.convolutional.Conv2D object at 0x7fcad4075898> True\n",
            "<tensorflow.python.keras.layers.pooling.MaxPooling2D object at 0x7fcad4069f98> True\n",
            "<tensorflow.python.keras.layers.convolutional.Conv2D object at 0x7fcad4069438> True\n",
            "<tensorflow.python.keras.layers.convolutional.Conv2D object at 0x7fcad4075470> True\n",
            "<tensorflow.python.keras.layers.convolutional.Conv2D object at 0x7fcad42042e8> True\n",
            "<tensorflow.python.keras.layers.convolutional.Conv2D object at 0x7fcad42049b0> True\n",
            "<tensorflow.python.keras.layers.pooling.MaxPooling2D object at 0x7fcad420df98> True\n"
          ],
          "name": "stdout"
        }
      ]
    },
    {
      "cell_type": "code",
      "metadata": {
        "id": "_uBeksvXnVBe",
        "colab_type": "code",
        "colab": {
          "base_uri": "https://localhost:8080/",
          "height": 413
        },
        "outputId": "07566b4c-917a-41fb-bbc0-6927f166496c"
      },
      "source": [
        "# define sequential model\n",
        "model = tf.keras.models.Sequential()\n",
        "\n",
        "# Add the vgg convolutional base model\n",
        "model.add(vgg_layers)\n",
        "\n",
        "# add flatten layer\n",
        "model.add(tf.keras.layers.Flatten())\n",
        "\n",
        "# add dense layers with some dropout\n",
        "model.add(tf.keras.layers.Dense(256, activation='relu'))\n",
        "model.add(tf.keras.layers.Dropout(rate=0.3))\n",
        "model.add(tf.keras.layers.Dense(256, activation='relu'))\n",
        "model.add(tf.keras.layers.Dropout(rate=0.3))\n",
        "\n",
        "# add output layer\n",
        "model.add(tf.keras.layers.Dense(10, activation='softmax'))\n",
        "\n",
        "# compile model\n",
        "model.compile(optimizer=tf.keras.optimizers.Adam(learning_rate=2e-5), \n",
        "              loss='sparse_categorical_crossentropy', \n",
        "              metrics=['accuracy'])\n",
        "\n",
        "# view model layers\n",
        "model.summary()"
      ],
      "execution_count": null,
      "outputs": [
        {
          "output_type": "stream",
          "text": [
            "Model: \"sequential_3\"\n",
            "_________________________________________________________________\n",
            "Layer (type)                 Output Shape              Param #   \n",
            "=================================================================\n",
            "vgg19 (Functional)           (None, 1, 1, 512)         20024384  \n",
            "_________________________________________________________________\n",
            "flatten_2 (Flatten)          (None, 512)               0         \n",
            "_________________________________________________________________\n",
            "dense_9 (Dense)              (None, 256)               131328    \n",
            "_________________________________________________________________\n",
            "dropout_4 (Dropout)          (None, 256)               0         \n",
            "_________________________________________________________________\n",
            "dense_10 (Dense)             (None, 256)               65792     \n",
            "_________________________________________________________________\n",
            "dropout_5 (Dropout)          (None, 256)               0         \n",
            "_________________________________________________________________\n",
            "dense_11 (Dense)             (None, 10)                2570      \n",
            "=================================================================\n",
            "Total params: 20,224,074\n",
            "Trainable params: 20,224,074\n",
            "Non-trainable params: 0\n",
            "_________________________________________________________________\n"
          ],
          "name": "stdout"
        }
      ]
    },
    {
      "cell_type": "code",
      "metadata": {
        "id": "VmjOispZnguM",
        "colab_type": "code",
        "colab": {}
      },
      "source": [
        "EPOCHS = 20\n",
        "X_train = X_train / 255.\n",
        "es_callback = tf.keras.callbacks.EarlyStopping(monitor='val_loss', patience=2, \n",
        "                                               restore_best_weights=True,\n",
        "                                               verbose=1)"
      ],
      "execution_count": null,
      "outputs": []
    },
    {
      "cell_type": "code",
      "metadata": {
        "id": "gFkzPyC4npqO",
        "colab_type": "code",
        "colab": {
          "base_uri": "https://localhost:8080/",
          "height": 343
        },
        "outputId": "79eab4e7-653c-4681-d3c8-014b9b157130"
      },
      "source": [
        "history = model.fit(x = X_train,y = y_train,\n",
        "                    batch_size=32,\n",
        "                    callbacks=[es_callback], \n",
        "                    validation_split=0.1, epochs=EPOCHS,\n",
        "                    verbose=1)"
      ],
      "execution_count": null,
      "outputs": [
        {
          "output_type": "stream",
          "text": [
            "Epoch 1/20\n",
            "   2/1407 [..............................] - ETA: 36s - loss: 2.4186 - accuracy: 0.1094WARNING:tensorflow:Callbacks method `on_train_batch_end` is slow compared to the batch time (batch time: 0.0183s vs `on_train_batch_end` time: 0.0340s). Check your callbacks.\n",
            "1407/1407 [==============================] - 55s 39ms/step - loss: 1.1468 - accuracy: 0.6140 - val_loss: 0.7169 - val_accuracy: 0.7550\n",
            "Epoch 2/20\n",
            "1407/1407 [==============================] - 55s 39ms/step - loss: 0.7041 - accuracy: 0.7714 - val_loss: 0.6150 - val_accuracy: 0.7896\n",
            "Epoch 3/20\n",
            "1407/1407 [==============================] - 55s 39ms/step - loss: 0.5616 - accuracy: 0.8179 - val_loss: 0.5700 - val_accuracy: 0.8138\n",
            "Epoch 4/20\n",
            "1407/1407 [==============================] - 55s 39ms/step - loss: 0.4570 - accuracy: 0.8516 - val_loss: 0.4903 - val_accuracy: 0.8356\n",
            "Epoch 5/20\n",
            "1407/1407 [==============================] - 55s 39ms/step - loss: 0.3680 - accuracy: 0.8810 - val_loss: 0.4753 - val_accuracy: 0.8426\n",
            "Epoch 6/20\n",
            "1407/1407 [==============================] - 55s 39ms/step - loss: 0.2900 - accuracy: 0.9064 - val_loss: 0.5219 - val_accuracy: 0.8438\n",
            "Epoch 7/20\n",
            "1407/1407 [==============================] - ETA: 0s - loss: 0.2285 - accuracy: 0.9275Restoring model weights from the end of the best epoch.\n",
            "1407/1407 [==============================] - 55s 39ms/step - loss: 0.2285 - accuracy: 0.9275 - val_loss: 0.5607 - val_accuracy: 0.8406\n",
            "Epoch 00007: early stopping\n"
          ],
          "name": "stdout"
        }
      ]
    },
    {
      "cell_type": "markdown",
      "metadata": {
        "id": "jvCQ3FTsDQHd",
        "colab_type": "text"
      },
      "source": [
        "## Conclusion: By Using Transfer Learning we could achieve 92% Train accuracy and 84% test accuracy"
      ]
    },
    {
      "cell_type": "code",
      "metadata": {
        "id": "-8R1Llkonu-M",
        "colab_type": "code",
        "colab": {
          "base_uri": "https://localhost:8080/",
          "height": 252
        },
        "outputId": "7dfbed32-25ee-4e66-ca73-4593f432fad6"
      },
      "source": [
        "import pandas as pd\n",
        "evaluation_set=pd.read_csv(\"https://raw.githubusercontent.com/dphi-official/Datasets/master/cifar_image_flattened_pixels.csv\")\n",
        "evaluation_set.head()"
      ],
      "execution_count": null,
      "outputs": [
        {
          "output_type": "execute_result",
          "data": {
            "text/html": [
              "<div>\n",
              "<style scoped>\n",
              "    .dataframe tbody tr th:only-of-type {\n",
              "        vertical-align: middle;\n",
              "    }\n",
              "\n",
              "    .dataframe tbody tr th {\n",
              "        vertical-align: top;\n",
              "    }\n",
              "\n",
              "    .dataframe thead th {\n",
              "        text-align: right;\n",
              "    }\n",
              "</style>\n",
              "<table border=\"1\" class=\"dataframe\">\n",
              "  <thead>\n",
              "    <tr style=\"text-align: right;\">\n",
              "      <th></th>\n",
              "      <th>0</th>\n",
              "      <th>1</th>\n",
              "      <th>2</th>\n",
              "      <th>3</th>\n",
              "      <th>4</th>\n",
              "      <th>5</th>\n",
              "      <th>6</th>\n",
              "      <th>7</th>\n",
              "      <th>8</th>\n",
              "      <th>9</th>\n",
              "      <th>10</th>\n",
              "      <th>11</th>\n",
              "      <th>12</th>\n",
              "      <th>13</th>\n",
              "      <th>14</th>\n",
              "      <th>15</th>\n",
              "      <th>16</th>\n",
              "      <th>17</th>\n",
              "      <th>18</th>\n",
              "      <th>19</th>\n",
              "      <th>20</th>\n",
              "      <th>21</th>\n",
              "      <th>22</th>\n",
              "      <th>23</th>\n",
              "      <th>24</th>\n",
              "      <th>25</th>\n",
              "      <th>26</th>\n",
              "      <th>27</th>\n",
              "      <th>28</th>\n",
              "      <th>29</th>\n",
              "      <th>30</th>\n",
              "      <th>31</th>\n",
              "      <th>32</th>\n",
              "      <th>33</th>\n",
              "      <th>34</th>\n",
              "      <th>35</th>\n",
              "      <th>36</th>\n",
              "      <th>37</th>\n",
              "      <th>38</th>\n",
              "      <th>39</th>\n",
              "      <th>...</th>\n",
              "      <th>3032</th>\n",
              "      <th>3033</th>\n",
              "      <th>3034</th>\n",
              "      <th>3035</th>\n",
              "      <th>3036</th>\n",
              "      <th>3037</th>\n",
              "      <th>3038</th>\n",
              "      <th>3039</th>\n",
              "      <th>3040</th>\n",
              "      <th>3041</th>\n",
              "      <th>3042</th>\n",
              "      <th>3043</th>\n",
              "      <th>3044</th>\n",
              "      <th>3045</th>\n",
              "      <th>3046</th>\n",
              "      <th>3047</th>\n",
              "      <th>3048</th>\n",
              "      <th>3049</th>\n",
              "      <th>3050</th>\n",
              "      <th>3051</th>\n",
              "      <th>3052</th>\n",
              "      <th>3053</th>\n",
              "      <th>3054</th>\n",
              "      <th>3055</th>\n",
              "      <th>3056</th>\n",
              "      <th>3057</th>\n",
              "      <th>3058</th>\n",
              "      <th>3059</th>\n",
              "      <th>3060</th>\n",
              "      <th>3061</th>\n",
              "      <th>3062</th>\n",
              "      <th>3063</th>\n",
              "      <th>3064</th>\n",
              "      <th>3065</th>\n",
              "      <th>3066</th>\n",
              "      <th>3067</th>\n",
              "      <th>3068</th>\n",
              "      <th>3069</th>\n",
              "      <th>3070</th>\n",
              "      <th>3071</th>\n",
              "    </tr>\n",
              "  </thead>\n",
              "  <tbody>\n",
              "    <tr>\n",
              "      <th>0</th>\n",
              "      <td>98</td>\n",
              "      <td>105</td>\n",
              "      <td>108</td>\n",
              "      <td>92</td>\n",
              "      <td>101</td>\n",
              "      <td>106</td>\n",
              "      <td>91</td>\n",
              "      <td>101</td>\n",
              "      <td>107</td>\n",
              "      <td>93</td>\n",
              "      <td>104</td>\n",
              "      <td>108</td>\n",
              "      <td>89</td>\n",
              "      <td>100</td>\n",
              "      <td>104</td>\n",
              "      <td>88</td>\n",
              "      <td>99</td>\n",
              "      <td>103</td>\n",
              "      <td>90</td>\n",
              "      <td>101</td>\n",
              "      <td>106</td>\n",
              "      <td>95</td>\n",
              "      <td>105</td>\n",
              "      <td>110</td>\n",
              "      <td>99</td>\n",
              "      <td>108</td>\n",
              "      <td>110</td>\n",
              "      <td>109</td>\n",
              "      <td>117</td>\n",
              "      <td>116</td>\n",
              "      <td>119</td>\n",
              "      <td>125</td>\n",
              "      <td>123</td>\n",
              "      <td>125</td>\n",
              "      <td>130</td>\n",
              "      <td>128</td>\n",
              "      <td>134</td>\n",
              "      <td>140</td>\n",
              "      <td>138</td>\n",
              "      <td>140</td>\n",
              "      <td>...</td>\n",
              "      <td>184</td>\n",
              "      <td>178</td>\n",
              "      <td>177</td>\n",
              "      <td>172</td>\n",
              "      <td>190</td>\n",
              "      <td>188</td>\n",
              "      <td>184</td>\n",
              "      <td>220</td>\n",
              "      <td>219</td>\n",
              "      <td>214</td>\n",
              "      <td>195</td>\n",
              "      <td>193</td>\n",
              "      <td>187</td>\n",
              "      <td>176</td>\n",
              "      <td>174</td>\n",
              "      <td>169</td>\n",
              "      <td>175</td>\n",
              "      <td>173</td>\n",
              "      <td>168</td>\n",
              "      <td>192</td>\n",
              "      <td>189</td>\n",
              "      <td>185</td>\n",
              "      <td>185</td>\n",
              "      <td>182</td>\n",
              "      <td>178</td>\n",
              "      <td>168</td>\n",
              "      <td>165</td>\n",
              "      <td>161</td>\n",
              "      <td>178</td>\n",
              "      <td>176</td>\n",
              "      <td>171</td>\n",
              "      <td>183</td>\n",
              "      <td>182</td>\n",
              "      <td>176</td>\n",
              "      <td>175</td>\n",
              "      <td>175</td>\n",
              "      <td>168</td>\n",
              "      <td>181</td>\n",
              "      <td>181</td>\n",
              "      <td>175</td>\n",
              "    </tr>\n",
              "    <tr>\n",
              "      <th>1</th>\n",
              "      <td>101</td>\n",
              "      <td>108</td>\n",
              "      <td>101</td>\n",
              "      <td>101</td>\n",
              "      <td>108</td>\n",
              "      <td>101</td>\n",
              "      <td>102</td>\n",
              "      <td>109</td>\n",
              "      <td>102</td>\n",
              "      <td>103</td>\n",
              "      <td>110</td>\n",
              "      <td>103</td>\n",
              "      <td>105</td>\n",
              "      <td>112</td>\n",
              "      <td>104</td>\n",
              "      <td>105</td>\n",
              "      <td>114</td>\n",
              "      <td>109</td>\n",
              "      <td>105</td>\n",
              "      <td>116</td>\n",
              "      <td>112</td>\n",
              "      <td>106</td>\n",
              "      <td>115</td>\n",
              "      <td>110</td>\n",
              "      <td>108</td>\n",
              "      <td>115</td>\n",
              "      <td>108</td>\n",
              "      <td>107</td>\n",
              "      <td>115</td>\n",
              "      <td>107</td>\n",
              "      <td>104</td>\n",
              "      <td>115</td>\n",
              "      <td>106</td>\n",
              "      <td>104</td>\n",
              "      <td>116</td>\n",
              "      <td>108</td>\n",
              "      <td>108</td>\n",
              "      <td>119</td>\n",
              "      <td>115</td>\n",
              "      <td>108</td>\n",
              "      <td>...</td>\n",
              "      <td>149</td>\n",
              "      <td>153</td>\n",
              "      <td>159</td>\n",
              "      <td>164</td>\n",
              "      <td>132</td>\n",
              "      <td>140</td>\n",
              "      <td>142</td>\n",
              "      <td>134</td>\n",
              "      <td>144</td>\n",
              "      <td>145</td>\n",
              "      <td>112</td>\n",
              "      <td>119</td>\n",
              "      <td>118</td>\n",
              "      <td>108</td>\n",
              "      <td>115</td>\n",
              "      <td>111</td>\n",
              "      <td>114</td>\n",
              "      <td>124</td>\n",
              "      <td>122</td>\n",
              "      <td>106</td>\n",
              "      <td>118</td>\n",
              "      <td>116</td>\n",
              "      <td>101</td>\n",
              "      <td>113</td>\n",
              "      <td>108</td>\n",
              "      <td>100</td>\n",
              "      <td>111</td>\n",
              "      <td>102</td>\n",
              "      <td>99</td>\n",
              "      <td>110</td>\n",
              "      <td>103</td>\n",
              "      <td>100</td>\n",
              "      <td>109</td>\n",
              "      <td>104</td>\n",
              "      <td>100</td>\n",
              "      <td>109</td>\n",
              "      <td>103</td>\n",
              "      <td>100</td>\n",
              "      <td>109</td>\n",
              "      <td>102</td>\n",
              "    </tr>\n",
              "    <tr>\n",
              "      <th>2</th>\n",
              "      <td>85</td>\n",
              "      <td>115</td>\n",
              "      <td>27</td>\n",
              "      <td>63</td>\n",
              "      <td>90</td>\n",
              "      <td>25</td>\n",
              "      <td>37</td>\n",
              "      <td>66</td>\n",
              "      <td>15</td>\n",
              "      <td>69</td>\n",
              "      <td>93</td>\n",
              "      <td>49</td>\n",
              "      <td>40</td>\n",
              "      <td>52</td>\n",
              "      <td>36</td>\n",
              "      <td>18</td>\n",
              "      <td>24</td>\n",
              "      <td>18</td>\n",
              "      <td>31</td>\n",
              "      <td>38</td>\n",
              "      <td>27</td>\n",
              "      <td>79</td>\n",
              "      <td>91</td>\n",
              "      <td>61</td>\n",
              "      <td>104</td>\n",
              "      <td>117</td>\n",
              "      <td>78</td>\n",
              "      <td>72</td>\n",
              "      <td>84</td>\n",
              "      <td>52</td>\n",
              "      <td>68</td>\n",
              "      <td>79</td>\n",
              "      <td>52</td>\n",
              "      <td>122</td>\n",
              "      <td>131</td>\n",
              "      <td>85</td>\n",
              "      <td>104</td>\n",
              "      <td>113</td>\n",
              "      <td>67</td>\n",
              "      <td>77</td>\n",
              "      <td>...</td>\n",
              "      <td>139</td>\n",
              "      <td>174</td>\n",
              "      <td>188</td>\n",
              "      <td>139</td>\n",
              "      <td>182</td>\n",
              "      <td>198</td>\n",
              "      <td>150</td>\n",
              "      <td>179</td>\n",
              "      <td>194</td>\n",
              "      <td>147</td>\n",
              "      <td>175</td>\n",
              "      <td>186</td>\n",
              "      <td>142</td>\n",
              "      <td>187</td>\n",
              "      <td>195</td>\n",
              "      <td>158</td>\n",
              "      <td>176</td>\n",
              "      <td>191</td>\n",
              "      <td>142</td>\n",
              "      <td>169</td>\n",
              "      <td>190</td>\n",
              "      <td>132</td>\n",
              "      <td>177</td>\n",
              "      <td>193</td>\n",
              "      <td>144</td>\n",
              "      <td>180</td>\n",
              "      <td>189</td>\n",
              "      <td>147</td>\n",
              "      <td>175</td>\n",
              "      <td>190</td>\n",
              "      <td>141</td>\n",
              "      <td>172</td>\n",
              "      <td>193</td>\n",
              "      <td>136</td>\n",
              "      <td>173</td>\n",
              "      <td>192</td>\n",
              "      <td>138</td>\n",
              "      <td>179</td>\n",
              "      <td>192</td>\n",
              "      <td>149</td>\n",
              "    </tr>\n",
              "    <tr>\n",
              "      <th>3</th>\n",
              "      <td>213</td>\n",
              "      <td>213</td>\n",
              "      <td>214</td>\n",
              "      <td>215</td>\n",
              "      <td>214</td>\n",
              "      <td>218</td>\n",
              "      <td>220</td>\n",
              "      <td>218</td>\n",
              "      <td>226</td>\n",
              "      <td>223</td>\n",
              "      <td>221</td>\n",
              "      <td>233</td>\n",
              "      <td>226</td>\n",
              "      <td>225</td>\n",
              "      <td>231</td>\n",
              "      <td>225</td>\n",
              "      <td>226</td>\n",
              "      <td>223</td>\n",
              "      <td>223</td>\n",
              "      <td>223</td>\n",
              "      <td>223</td>\n",
              "      <td>227</td>\n",
              "      <td>226</td>\n",
              "      <td>231</td>\n",
              "      <td>229</td>\n",
              "      <td>228</td>\n",
              "      <td>236</td>\n",
              "      <td>229</td>\n",
              "      <td>228</td>\n",
              "      <td>236</td>\n",
              "      <td>230</td>\n",
              "      <td>229</td>\n",
              "      <td>236</td>\n",
              "      <td>228</td>\n",
              "      <td>227</td>\n",
              "      <td>235</td>\n",
              "      <td>227</td>\n",
              "      <td>226</td>\n",
              "      <td>234</td>\n",
              "      <td>225</td>\n",
              "      <td>...</td>\n",
              "      <td>20</td>\n",
              "      <td>111</td>\n",
              "      <td>41</td>\n",
              "      <td>28</td>\n",
              "      <td>111</td>\n",
              "      <td>63</td>\n",
              "      <td>60</td>\n",
              "      <td>120</td>\n",
              "      <td>92</td>\n",
              "      <td>98</td>\n",
              "      <td>138</td>\n",
              "      <td>117</td>\n",
              "      <td>129</td>\n",
              "      <td>153</td>\n",
              "      <td>140</td>\n",
              "      <td>158</td>\n",
              "      <td>172</td>\n",
              "      <td>161</td>\n",
              "      <td>187</td>\n",
              "      <td>188</td>\n",
              "      <td>174</td>\n",
              "      <td>205</td>\n",
              "      <td>195</td>\n",
              "      <td>182</td>\n",
              "      <td>212</td>\n",
              "      <td>199</td>\n",
              "      <td>185</td>\n",
              "      <td>216</td>\n",
              "      <td>197</td>\n",
              "      <td>186</td>\n",
              "      <td>216</td>\n",
              "      <td>193</td>\n",
              "      <td>194</td>\n",
              "      <td>209</td>\n",
              "      <td>201</td>\n",
              "      <td>204</td>\n",
              "      <td>216</td>\n",
              "      <td>203</td>\n",
              "      <td>201</td>\n",
              "      <td>237</td>\n",
              "    </tr>\n",
              "    <tr>\n",
              "      <th>4</th>\n",
              "      <td>41</td>\n",
              "      <td>74</td>\n",
              "      <td>144</td>\n",
              "      <td>41</td>\n",
              "      <td>75</td>\n",
              "      <td>139</td>\n",
              "      <td>41</td>\n",
              "      <td>75</td>\n",
              "      <td>139</td>\n",
              "      <td>41</td>\n",
              "      <td>74</td>\n",
              "      <td>144</td>\n",
              "      <td>39</td>\n",
              "      <td>76</td>\n",
              "      <td>140</td>\n",
              "      <td>37</td>\n",
              "      <td>79</td>\n",
              "      <td>130</td>\n",
              "      <td>38</td>\n",
              "      <td>77</td>\n",
              "      <td>135</td>\n",
              "      <td>40</td>\n",
              "      <td>75</td>\n",
              "      <td>142</td>\n",
              "      <td>43</td>\n",
              "      <td>72</td>\n",
              "      <td>145</td>\n",
              "      <td>47</td>\n",
              "      <td>71</td>\n",
              "      <td>146</td>\n",
              "      <td>47</td>\n",
              "      <td>73</td>\n",
              "      <td>140</td>\n",
              "      <td>43</td>\n",
              "      <td>75</td>\n",
              "      <td>140</td>\n",
              "      <td>39</td>\n",
              "      <td>77</td>\n",
              "      <td>143</td>\n",
              "      <td>37</td>\n",
              "      <td>...</td>\n",
              "      <td>149</td>\n",
              "      <td>42</td>\n",
              "      <td>71</td>\n",
              "      <td>135</td>\n",
              "      <td>43</td>\n",
              "      <td>72</td>\n",
              "      <td>125</td>\n",
              "      <td>42</td>\n",
              "      <td>72</td>\n",
              "      <td>122</td>\n",
              "      <td>51</td>\n",
              "      <td>72</td>\n",
              "      <td>117</td>\n",
              "      <td>64</td>\n",
              "      <td>70</td>\n",
              "      <td>109</td>\n",
              "      <td>65</td>\n",
              "      <td>72</td>\n",
              "      <td>99</td>\n",
              "      <td>53</td>\n",
              "      <td>76</td>\n",
              "      <td>113</td>\n",
              "      <td>35</td>\n",
              "      <td>75</td>\n",
              "      <td>136</td>\n",
              "      <td>30</td>\n",
              "      <td>81</td>\n",
              "      <td>140</td>\n",
              "      <td>34</td>\n",
              "      <td>79</td>\n",
              "      <td>133</td>\n",
              "      <td>41</td>\n",
              "      <td>77</td>\n",
              "      <td>130</td>\n",
              "      <td>44</td>\n",
              "      <td>75</td>\n",
              "      <td>133</td>\n",
              "      <td>42</td>\n",
              "      <td>73</td>\n",
              "      <td>144</td>\n",
              "    </tr>\n",
              "  </tbody>\n",
              "</table>\n",
              "<p>5 rows × 3072 columns</p>\n",
              "</div>"
            ],
            "text/plain": [
              "     0    1    2    3    4    5    6  ...  3065  3066  3067  3068  3069  3070  3071\n",
              "0   98  105  108   92  101  106   91  ...   176   175   175   168   181   181   175\n",
              "1  101  108  101  101  108  101  102  ...   104   100   109   103   100   109   102\n",
              "2   85  115   27   63   90   25   37  ...   136   173   192   138   179   192   149\n",
              "3  213  213  214  215  214  218  220  ...   209   201   204   216   203   201   237\n",
              "4   41   74  144   41   75  139   41  ...   130    44    75   133    42    73   144\n",
              "\n",
              "[5 rows x 3072 columns]"
            ]
          },
          "metadata": {
            "tags": []
          },
          "execution_count": 54
        }
      ]
    },
    {
      "cell_type": "code",
      "metadata": {
        "id": "oUq9Ady9_mb5",
        "colab_type": "code",
        "colab": {}
      },
      "source": [
        "# Normalization\n",
        "evaluation_set = evaluation_set/255."
      ],
      "execution_count": null,
      "outputs": []
    },
    {
      "cell_type": "code",
      "metadata": {
        "id": "djg3xSOI_tZC",
        "colab_type": "code",
        "colab": {}
      },
      "source": [
        "# Reshaping the Evaluation Data\n",
        "import numpy as np\n",
        "arr = np.array(evaluation_set)\n",
        "arr = np.array([x.reshape(32,32,3) for x in arr])"
      ],
      "execution_count": null,
      "outputs": []
    },
    {
      "cell_type": "code",
      "metadata": {
        "id": "MoqyxsKp__4o",
        "colab_type": "code",
        "colab": {}
      },
      "source": [
        "pred=model.predict(arr)"
      ],
      "execution_count": null,
      "outputs": []
    },
    {
      "cell_type": "code",
      "metadata": {
        "id": "k-GVXioqAJ1r",
        "colab_type": "code",
        "colab": {}
      },
      "source": [
        "prediction_labels = np.argmax(pred, axis=1)"
      ],
      "execution_count": null,
      "outputs": []
    },
    {
      "cell_type": "code",
      "metadata": {
        "id": "x8IUHiSEAShv",
        "colab_type": "code",
        "colab": {
          "base_uri": "https://localhost:8080/",
          "height": 202
        },
        "outputId": "d179a1b2-0a66-4aed-878c-8dcdfa75080d"
      },
      "source": [
        "res.head()"
      ],
      "execution_count": null,
      "outputs": [
        {
          "output_type": "execute_result",
          "data": {
            "text/html": [
              "<div>\n",
              "<style scoped>\n",
              "    .dataframe tbody tr th:only-of-type {\n",
              "        vertical-align: middle;\n",
              "    }\n",
              "\n",
              "    .dataframe tbody tr th {\n",
              "        vertical-align: top;\n",
              "    }\n",
              "\n",
              "    .dataframe thead th {\n",
              "        text-align: right;\n",
              "    }\n",
              "</style>\n",
              "<table border=\"1\" class=\"dataframe\">\n",
              "  <thead>\n",
              "    <tr style=\"text-align: right;\">\n",
              "      <th></th>\n",
              "      <th>0</th>\n",
              "    </tr>\n",
              "  </thead>\n",
              "  <tbody>\n",
              "    <tr>\n",
              "      <th>0</th>\n",
              "      <td>2</td>\n",
              "    </tr>\n",
              "    <tr>\n",
              "      <th>1</th>\n",
              "      <td>3</td>\n",
              "    </tr>\n",
              "    <tr>\n",
              "      <th>2</th>\n",
              "      <td>7</td>\n",
              "    </tr>\n",
              "    <tr>\n",
              "      <th>3</th>\n",
              "      <td>8</td>\n",
              "    </tr>\n",
              "    <tr>\n",
              "      <th>4</th>\n",
              "      <td>6</td>\n",
              "    </tr>\n",
              "  </tbody>\n",
              "</table>\n",
              "</div>"
            ],
            "text/plain": [
              "   0\n",
              "0  2\n",
              "1  3\n",
              "2  7\n",
              "3  8\n",
              "4  6"
            ]
          },
          "metadata": {
            "tags": []
          },
          "execution_count": 45
        }
      ]
    },
    {
      "cell_type": "code",
      "metadata": {
        "id": "HNY8WFitAX_-",
        "colab_type": "code",
        "colab": {
          "base_uri": "https://localhost:8080/",
          "height": 17
        },
        "outputId": "7e6a457e-23ec-4476-c6d3-b8a270dcfc4a"
      },
      "source": [
        "# To download the csv file locally\n",
        "from google.colab import files\n",
        "res.to_csv(\"predictions.csv\",index=False)\n",
        "files.download(\"predictions.csv\")"
      ],
      "execution_count": null,
      "outputs": [
        {
          "output_type": "display_data",
          "data": {
            "application/javascript": [
              "\n",
              "    async function download(id, filename, size) {\n",
              "      if (!google.colab.kernel.accessAllowed) {\n",
              "        return;\n",
              "      }\n",
              "      const div = document.createElement('div');\n",
              "      const label = document.createElement('label');\n",
              "      label.textContent = `Downloading \"${filename}\": `;\n",
              "      div.appendChild(label);\n",
              "      const progress = document.createElement('progress');\n",
              "      progress.max = size;\n",
              "      div.appendChild(progress);\n",
              "      document.body.appendChild(div);\n",
              "\n",
              "      const buffers = [];\n",
              "      let downloaded = 0;\n",
              "\n",
              "      const channel = await google.colab.kernel.comms.open(id);\n",
              "      // Send a message to notify the kernel that we're ready.\n",
              "      channel.send({})\n",
              "\n",
              "      for await (const message of channel.messages) {\n",
              "        // Send a message to notify the kernel that we're ready.\n",
              "        channel.send({})\n",
              "        if (message.buffers) {\n",
              "          for (const buffer of message.buffers) {\n",
              "            buffers.push(buffer);\n",
              "            downloaded += buffer.byteLength;\n",
              "            progress.value = downloaded;\n",
              "          }\n",
              "        }\n",
              "      }\n",
              "      const blob = new Blob(buffers, {type: 'application/binary'});\n",
              "      const a = document.createElement('a');\n",
              "      a.href = window.URL.createObjectURL(blob);\n",
              "      a.download = filename;\n",
              "      div.appendChild(a);\n",
              "      a.click();\n",
              "      div.remove();\n",
              "    }\n",
              "  "
            ],
            "text/plain": [
              "<IPython.core.display.Javascript object>"
            ]
          },
          "metadata": {
            "tags": []
          }
        },
        {
          "output_type": "display_data",
          "data": {
            "application/javascript": [
              "download(\"download_612812d6-34a1-4a7f-b8a0-94e403c8832a\", \"predictions.csv\", 4002)"
            ],
            "text/plain": [
              "<IPython.core.display.Javascript object>"
            ]
          },
          "metadata": {
            "tags": []
          }
        }
      ]
    },
    {
      "cell_type": "code",
      "metadata": {
        "id": "9OAysJOAAdDg",
        "colab_type": "code",
        "colab": {}
      },
      "source": [
        ""
      ],
      "execution_count": null,
      "outputs": []
    }
  ]
}